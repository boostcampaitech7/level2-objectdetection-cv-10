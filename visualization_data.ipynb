{
 "cells": [
  {
   "cell_type": "code",
   "execution_count": 84,
   "metadata": {},
   "outputs": [],
   "source": [
    "import matplotlib.pyplot as plt\n",
    "import matplotlib.patches as patches\n",
    "from pycocotools.coco import COCO\n",
    "import skimage.io as io\n",
    "import numpy as np\n",
    "import random"
   ]
  },
  {
   "cell_type": "code",
   "execution_count": 87,
   "metadata": {},
   "outputs": [],
   "source": [
    "classes = [\"General trash\", \"Paper\", \"Paper pack\", \"Metal\", \"Glass\", \n",
    "           \"Plastic\", \"Styrofoam\", \"Plastic bag\", \"Battery\", \"Clothing\"]\n",
    "\n",
    "colors = {\n",
    "    \"General trash\": \"red\",\n",
    "    \"Paper\": \"blue\",\n",
    "    \"Paper pack\": \"green\",\n",
    "    \"Metal\": \"orange\",\n",
    "    \"Glass\": \"purple\",\n",
    "    \"Plastic\": \"cyan\",\n",
    "    \"Styrofoam\": \"magenta\",\n",
    "    \"Plastic bag\": \"yellow\",\n",
    "    \"Battery\": \"pink\",\n",
    "    \"Clothing\": \"lime\"\n",
    "}"
   ]
  },
  {
   "cell_type": "code",
   "execution_count": 81,
   "metadata": {},
   "outputs": [],
   "source": [
    "# COCO annotation 파일 경로 및 이미지 경로 설정\n",
    "annFile = '../../../dataset/train.json'\n",
    "imgDir = '../../../dataset/'"
   ]
  },
  {
   "cell_type": "code",
   "execution_count": null,
   "metadata": {},
   "outputs": [],
   "source": [
    "coco = COCO(annFile)\n",
    "\n",
    "# 이미지와 주석 불러오기\n",
    "imgIds = coco.getImgIds()\n",
    "\n",
    "# 이미지 당 바운딩 박스 개수를 저장할 딕셔너리 (1~7개의 bbox 개수에 해당하는 이미지를 분류)\n",
    "bbox_count_dict = {i: [] for i in range(1, 51)}\n",
    "\n",
    "# 모든 이미지에 대해 바운딩 박스 개수 계산\n",
    "for img_id in imgIds:\n",
    "    annIds = coco.getAnnIds(imgIds=img_id, iscrowd=None)\n",
    "    anns = coco.loadAnns(annIds)\n",
    "    bbox_count = len(anns)\n",
    "    \n",
    "    # 바운딩 박스 개수가 1~50인 이미지만 저장\n",
    "    if 1 <= bbox_count <= 51:\n",
    "        bbox_count_dict[bbox_count].append(img_id)\n",
    "\n",
    "# 바운딩 박스 개수 별로 5개의 이미지를 랜덤하게 선택하고 시각화\n",
    "for bbox_count in range(1, 51):\n",
    "    print(f\"\\nBounding boxes: {bbox_count}\")\n",
    "    \n",
    "    if len(bbox_count_dict[bbox_count]) < 5:\n",
    "        print(f\"이미지 수가 부족합니다: {len(bbox_count_dict[bbox_count])} 개만 존재.\")\n",
    "    \n",
    "    selected_img_ids = random.sample(bbox_count_dict[bbox_count], min(5, len(bbox_count_dict[bbox_count])))\n",
    "\n",
    "    # 1개의 행에 5개의 이미지를 출력하기 위해 subplots 생성\n",
    "    fig, axes = plt.subplots(1, 5, figsize=(20, 5))  # 1행 5열, 이미지 크기를 설정\n",
    "\n",
    "    for i, img_id in enumerate(selected_img_ids):\n",
    "        img = coco.loadImgs(img_id)[0]\n",
    "        image = io.imread(imgDir + img['file_name'])\n",
    "\n",
    "        # 해당 이미지에 대한 annotation 정보 가져오기\n",
    "        annIds = coco.getAnnIds(imgIds=img['id'], iscrowd=None)\n",
    "        anns = coco.loadAnns(annIds)\n",
    "\n",
    "        # 이미지 출력\n",
    "        axes[i].imshow(image)\n",
    "        axes[i].axis('off')  # 축 없애기\n",
    "\n",
    "        # 바운딩 박스 그리기 및 클래스 이름 출력\n",
    "        for ann in anns:\n",
    "            bbox = ann['bbox']  # 바운딩 박스 정보 [x, y, width, height]\n",
    "            category_id = ann['category_id']\n",
    "            category_name = coco.loadCats(category_id)[0]['name']\n",
    "\n",
    "            # 클래스에 해당하는 색상 선택\n",
    "            color = colors.get(category_name, 'white')  # 기본 색상은 'white'\n",
    "\n",
    "            # 바운딩 박스 추가\n",
    "            rect = patches.Rectangle((bbox[0], bbox[1]), bbox[2], bbox[3], \n",
    "                                     linewidth=2, edgecolor=color, facecolor='none')\n",
    "            axes[i].add_patch(rect)\n",
    "\n",
    "            # 클래스 이름을 바운딩 박스 위에 출력\n",
    "            axes[i].text(bbox[0], bbox[1] - 10, category_name, \n",
    "                         color=color, fontsize=10, fontweight='bold', \n",
    "                         bbox=dict(facecolor='white', alpha=0.5))\n",
    "\n",
    "    plt.tight_layout()\n",
    "    plt.show()"
   ]
  }
 ],
 "metadata": {
  "kernelspec": {
   "display_name": "base",
   "language": "python",
   "name": "python3"
  },
  "language_info": {
   "codemirror_mode": {
    "name": "ipython",
    "version": 3
   },
   "file_extension": ".py",
   "mimetype": "text/x-python",
   "name": "python",
   "nbconvert_exporter": "python",
   "pygments_lexer": "ipython3",
   "version": "3.10.13"
  }
 },
 "nbformat": 4,
 "nbformat_minor": 2
}
